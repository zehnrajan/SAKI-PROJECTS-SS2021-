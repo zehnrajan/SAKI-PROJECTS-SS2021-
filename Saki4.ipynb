{
 "cells": [
  {
   "cell_type": "code",
   "execution_count": 1,
   "metadata": {},
   "outputs": [
    {
     "name": "stdout",
     "output_type": "stream",
     "text": [
      "Requirement already satisfied: pymdptoolbox in c:\\users\\rajan\\anaconda3\\lib\\site-packages (4.0b3)\n",
      "Requirement already satisfied: numpy in c:\\users\\rajan\\anaconda3\\lib\\site-packages (from pymdptoolbox) (1.20.1)\n",
      "Requirement already satisfied: scipy in c:\\users\\rajan\\anaconda3\\lib\\site-packages (from pymdptoolbox) (1.6.2)\n"
     ]
    }
   ],
   "source": [
    "!pip install pymdptoolbox\n",
    "import numpy as np\n",
    "import itertools as it\n",
    "import mdptoolbox\n",
    "from scipy.sparse import csr_matrix\n",
    "import datetime"
   ]
  },
  {
   "cell_type": "code",
   "execution_count": 2,
   "metadata": {},
   "outputs": [],
   "source": [
    "warehouseSize = 4\n",
    "cellStates = [\"w\",\"r\",\"b\",\"e\"] #white, red, blue and empty\n",
    "orders = [\"sw\", \"sr\", \"sb\", \"rw\", \"rr\", \"rb\"]\n",
    "states = ['0','w','b','r']\n",
    "actions = ['sto_r', 'sto_b', 'sto_w', 'res_r', 'res_b', 'res_w']\n",
    "all_states = []\n",
    "for i in states:\n",
    "  for j in states:\n",
    "      for k in states:\n",
    "          for l in states:\n",
    "              for m in actions:\n",
    "                  st_ac = (i,j,k,l,m)\n",
    "                  all_states.append(st_ac)\n",
    "statesDict = {x:i for i,x in enumerate(states)}\n",
    "\n",
    "negRewards = {\n",
    "    5:-4,\n",
    "    4:-3,\n",
    "    3:-3,\n",
    "    2:-2,\n",
    "    1:-2,\n",
    "    0:-1,\n",
    "    \"error\": -100\n",
    "}\n",
    "\n",
    "posRewards = {\n",
    "    5:2,\n",
    "    4:4,\n",
    "    3:4,\n",
    "    2:6,\n",
    "    1:6,\n",
    "    0:8,\n",
    "    \"error\": -100\n",
    "}\n",
    "\n",
    "rewards = posRewards"
   ]
  },
  {
   "cell_type": "code",
   "execution_count": 3,
   "metadata": {},
   "outputs": [],
   "source": [
    "def getOptions(state, action):\n",
    "    #take state and action (index of cell targeted)\n",
    "    #return list of indices for states-list, that represent all the viable follow-up states\n",
    "    viable = list()\n",
    "    valid = bool()\n",
    "    \n",
    "    order = str()\n",
    "    if state[-1][0] == \"s\":\n",
    "        order = \"store\"\n",
    "        valid = state[action] == \"e\"\n",
    "    else:\n",
    "        order = \"restore\"\n",
    "        valid = state[action] == state[-1][-1]\n",
    "    \n",
    "    if valid:\n",
    "        if order == \"store\":\n",
    "          viable = [i for i,x in enumerate(states) if (x[action] == state[-1][-1]) and ([y for j,y in enumerate(x) if j!=action][:-1] == [y for j,y in enumerate(state) if j!=action][:-1])]\n",
    "        else:\n",
    "          viable = [i for i,x in enumerate(states) if (x[action] == \"e\") and ([y for j,y in enumerate(x) if j!=action][:-1] == [y for j,y in enumerate(state) if j!=action][:-1])]\n",
    "      \n",
    "    else:\n",
    "        viable = [i for i,x in enumerate(states) if (state[:-1] == x[:-1])]\n",
    "    \n",
    "    return viable, valid"
   ]
  },
  {
   "cell_type": "code",
   "execution_count": 4,
   "metadata": {},
   "outputs": [],
   "source": [
    "def convertStates(s):\n",
    "    #convert list of indices to corresponding states\n",
    "    conS = list()\n",
    "    for x in s:\n",
    "        conS.append(states[x])\n",
    "        \n",
    "    return conS"
   ]
  },
  {
   "cell_type": "code",
   "execution_count": 5,
   "metadata": {},
   "outputs": [],
   "source": [
    "def testWarehouse(orderList, policy):\n",
    "  #test the performance of a policy on a list of orders\n",
    "  state = [\"e\",\"e\",\"e\",\"e\",\"\"]\n",
    "  \n",
    "  cost = 0\n",
    "  \n",
    "  for order in orderList:\n",
    "    state[-1] = order\n",
    "    cell = policy[statesDict[tuple(state)]]\n",
    "    \n",
    "    if state[-1][0] == \"s\":\n",
    "      state[cell] = state[-1][-1]\n",
    "    else:\n",
    "      state[cell] = \"e\"\n",
    "      \n",
    "    if cell == 0:\n",
    "      cost += 1\n",
    "    elif cell in [1,2]:\n",
    "      cost += 2\n",
    "    else:\n",
    "      cost += 3\n",
    "  return cost"
   ]
  },
  {
   "cell_type": "code",
   "execution_count": 6,
   "metadata": {},
   "outputs": [],
   "source": [
    "def visState(state):\n",
    "  #visualize the structure of a state\n",
    "  if len(state) == 5:\n",
    "    print(state[-1])\n",
    "    print([state[2],state[3]])\n",
    "    print([state[0],state[1]])\n",
    "    print(\"\\n\")\n",
    "  else:\n",
    "    pass"
   ]
  },
  {
   "cell_type": "code",
   "execution_count": 9,
   "metadata": {},
   "outputs": [],
   "source": [
    "def createGreedyPolicy():\n",
    "  pol = list()\n",
    "  \n",
    "  for state in states:\n",
    "    order = state[-1][0]\n",
    "    \n",
    "    if order == \"s\":\n",
    "      #state tries to store object\n",
    "      valid = False\n",
    "      for i in range(4):\n",
    "        if state[i] == \"e\":\n",
    "          #state i is empty\n",
    "          valid = True\n",
    "          pol.append(i)\n",
    "          break\n",
    "      if not valid:\n",
    "        #there is no empty cell to store an object\n",
    "        pol.append(3)\n",
    "        \n",
    "    else:\n",
    "      #state tries to restore object\n",
    "      valid = False\n",
    "      for i in range(4):\n",
    "        if state[i] == state[-1][-1]:\n",
    "          #cell i contains matching object\n",
    "          valid = True\n",
    "          pol.append(i)\n",
    "          break\n",
    "      if not valid:\n",
    "        #there is no matching object to restore\n",
    "        pol.append(3)\n",
    "  return pol"
   ]
  },
  {
   "cell_type": "code",
   "execution_count": 15,
   "metadata": {},
   "outputs": [
    {
     "name": "stdout",
     "output_type": "stream",
     "text": [
      "2021-07-14 12:52:42.532757\n",
      "ERROR: Wrong amount of options:  0\n",
      "ERROR: Wrong amount of options:  0\n",
      "ERROR: Wrong amount of options:  0\n",
      "ERROR: Wrong amount of options:  0\n"
     ]
    },
    {
     "ename": "IndexError",
     "evalue": "list index out of range",
     "output_type": "error",
     "traceback": [
      "\u001b[1;31m---------------------------------------------------------------------------\u001b[0m",
      "\u001b[1;31mIndexError\u001b[0m                                Traceback (most recent call last)",
      "\u001b[1;32m<ipython-input-15-d40240ad4ce3>\u001b[0m in \u001b[0;36m<module>\u001b[1;34m\u001b[0m\n\u001b[0;32m     12\u001b[0m     \u001b[0mtrans_prob\u001b[0m \u001b[1;33m=\u001b[0m \u001b[0mnp\u001b[0m\u001b[1;33m.\u001b[0m\u001b[0mzeros\u001b[0m\u001b[1;33m(\u001b[0m\u001b[1;33m(\u001b[0m\u001b[1;36m1536\u001b[0m\u001b[1;33m,\u001b[0m \u001b[1;36m1536\u001b[0m\u001b[1;33m)\u001b[0m\u001b[1;33m)\u001b[0m\u001b[1;33m\u001b[0m\u001b[1;33m\u001b[0m\u001b[0m\n\u001b[0;32m     13\u001b[0m     \u001b[1;32mfor\u001b[0m \u001b[0mx\u001b[0m \u001b[1;32min\u001b[0m \u001b[0mrange\u001b[0m\u001b[1;33m(\u001b[0m\u001b[0mlen\u001b[0m\u001b[1;33m(\u001b[0m\u001b[0mtrans_prob\u001b[0m\u001b[1;33m)\u001b[0m\u001b[1;33m)\u001b[0m\u001b[1;33m:\u001b[0m\u001b[1;33m\u001b[0m\u001b[1;33m\u001b[0m\u001b[0m\n\u001b[1;32m---> 14\u001b[1;33m         \u001b[0mopts\u001b[0m\u001b[1;33m,\u001b[0m \u001b[0mvalid\u001b[0m \u001b[1;33m=\u001b[0m \u001b[0mgetOptions\u001b[0m\u001b[1;33m(\u001b[0m\u001b[0mstates\u001b[0m\u001b[1;33m[\u001b[0m\u001b[0mx\u001b[0m\u001b[1;33m]\u001b[0m\u001b[1;33m,\u001b[0m \u001b[0mi\u001b[0m\u001b[1;33m)\u001b[0m\u001b[1;33m\u001b[0m\u001b[1;33m\u001b[0m\u001b[0m\n\u001b[0m\u001b[0;32m     15\u001b[0m \u001b[1;33m\u001b[0m\u001b[0m\n\u001b[0;32m     16\u001b[0m         \u001b[1;32mif\u001b[0m \u001b[0mlen\u001b[0m\u001b[1;33m(\u001b[0m\u001b[0mopts\u001b[0m\u001b[1;33m)\u001b[0m\u001b[1;33m!=\u001b[0m \u001b[1;36m6\u001b[0m\u001b[1;33m:\u001b[0m\u001b[1;33m\u001b[0m\u001b[1;33m\u001b[0m\u001b[0m\n",
      "\u001b[1;31mIndexError\u001b[0m: list index out of range"
     ]
    }
   ],
   "source": [
    "print(datetime.datetime.now())\n",
    "\n",
    "trans_prob_all = []\n",
    "\n",
    "#probability for every next state, assuming an equal probability distribution\n",
    "prob = 1/6 \n",
    "#explicit calculation of the last probability to avoid floating-point errors\n",
    "problast = 1 - (1/6)*5\n",
    "\n",
    "#create on mat\n",
    "for i in range(warehouseSize):\n",
    "    trans_prob = np.zeros((1536, 1536))    \n",
    "    for x in range(len(trans_prob)):\n",
    "        opts, valid = getOptions(states[x], i)\n",
    "\n",
    "        if len(opts)!= 6:\n",
    "          print(\"ERROR: Wrong amount of options: \", str(len(opts)))\n",
    "          \n",
    "        for j,k in enumerate(opts):\n",
    "            if j == (len(opts)-1):\n",
    "              trans_prob[x][k] = problast\n",
    "            else:\n",
    "              trans_prob[x][k] = prob\n",
    "\n",
    "\n",
    "    trans_prob_all.append(csr_matrix(trans_prob))\n",
    "    print(\"Done: \", str(i))\n",
    "\n",
    "\n",
    "print(\"Trans Matrices created!\")\n",
    "\n",
    "\n",
    "\n",
    "print(datetime.datetime.now())"
   ]
  },
  {
   "cell_type": "code",
   "execution_count": 12,
   "metadata": {},
   "outputs": [
    {
     "name": "stdout",
     "output_type": "stream",
     "text": [
      "2021-07-14 12:36:17.352607\n"
     ]
    },
    {
     "ename": "IndexError",
     "evalue": "string index out of range",
     "output_type": "error",
     "traceback": [
      "\u001b[1;31m---------------------------------------------------------------------------\u001b[0m",
      "\u001b[1;31mIndexError\u001b[0m                                Traceback (most recent call last)",
      "\u001b[1;32m<ipython-input-12-f319a762ab58>\u001b[0m in \u001b[0;36m<module>\u001b[1;34m\u001b[0m\n\u001b[0;32m     20\u001b[0m     \u001b[1;32melse\u001b[0m\u001b[1;33m:\u001b[0m\u001b[1;33m\u001b[0m\u001b[1;33m\u001b[0m\u001b[0m\n\u001b[0;32m     21\u001b[0m         \u001b[1;32mfor\u001b[0m \u001b[0mi\u001b[0m\u001b[1;33m,\u001b[0m\u001b[0mx\u001b[0m \u001b[1;32min\u001b[0m \u001b[0menumerate\u001b[0m\u001b[1;33m(\u001b[0m\u001b[0mreward\u001b[0m\u001b[1;33m)\u001b[0m\u001b[1;33m:\u001b[0m\u001b[1;33m\u001b[0m\u001b[1;33m\u001b[0m\u001b[0m\n\u001b[1;32m---> 22\u001b[1;33m             \u001b[1;32mif\u001b[0m \u001b[0mstate\u001b[0m\u001b[1;33m[\u001b[0m\u001b[0mi\u001b[0m\u001b[1;33m]\u001b[0m \u001b[1;33m==\u001b[0m \u001b[0mstate\u001b[0m\u001b[1;33m[\u001b[0m\u001b[1;33m-\u001b[0m\u001b[1;36m1\u001b[0m\u001b[1;33m]\u001b[0m\u001b[1;33m[\u001b[0m\u001b[1;33m-\u001b[0m\u001b[1;36m1\u001b[0m\u001b[1;33m]\u001b[0m\u001b[1;33m:\u001b[0m\u001b[1;33m\u001b[0m\u001b[1;33m\u001b[0m\u001b[0m\n\u001b[0m\u001b[0;32m     23\u001b[0m                 \u001b[0mreward\u001b[0m\u001b[1;33m[\u001b[0m\u001b[0mi\u001b[0m\u001b[1;33m]\u001b[0m \u001b[1;33m=\u001b[0m \u001b[0mrewards\u001b[0m\u001b[1;33m[\u001b[0m\u001b[0mi\u001b[0m\u001b[1;33m]\u001b[0m\u001b[1;33m\u001b[0m\u001b[1;33m\u001b[0m\u001b[0m\n\u001b[0;32m     24\u001b[0m             \u001b[1;32melse\u001b[0m\u001b[1;33m:\u001b[0m\u001b[1;33m\u001b[0m\u001b[1;33m\u001b[0m\u001b[0m\n",
      "\u001b[1;31mIndexError\u001b[0m: string index out of range"
     ]
    }
   ],
   "source": [
    "print(datetime.datetime.now())\n",
    "reward_all = []\n",
    "for state in states:\n",
    "    reward = np.zeros(4, dtype=np.float16)\n",
    "    \n",
    "    order = str()\n",
    "    if state[-1][0] == \"s\":\n",
    "        order = \"store\"\n",
    "    else:\n",
    "        order = \"restore\"\n",
    "    \n",
    "    if order == \"store\":\n",
    "        for i,x in enumerate(reward):\n",
    "            if state[i]==\"e\":\n",
    "                reward[i] = rewards[i]\n",
    "            else:\n",
    "                reward[i] = rewards[\"error\"]\n",
    "    else:\n",
    "        for i,x in enumerate(reward):\n",
    "            if state[i] == state[-1][-1]:\n",
    "                reward[i] = rewards[i]\n",
    "            else:\n",
    "                reward[i] = rewards[\"error\"]\n",
    "    reward_all.append(reward)\n",
    "reward_all = np.array(reward_all)\n",
    "print(\"Done Rewards!\")\n",
    "print(datetime.datetime.now())"
   ]
  },
  {
   "cell_type": "code",
   "execution_count": null,
   "metadata": {},
   "outputs": [],
   "source": [
    "mdpresultPolicy = mdptoolbox.mdp.PolicyIteration(trans_prob_all, reward_all,0.999, max_iter=10000)\n",
    "mdpresultValue = mdptoolbox.mdp.ValueIteration(trans_prob_all, reward_all,0.999, max_iter=10000)"
   ]
  },
  {
   "cell_type": "code",
   "execution_count": null,
   "metadata": {},
   "outputs": [],
   "source": [
    "mdpresultPolicy.run()\n",
    "mdpresultValue.run()\n",
    "\n",
    "print(\"MDP trained\")"
   ]
  },
  {
   "cell_type": "code",
   "execution_count": 14,
   "metadata": {},
   "outputs": [
    {
     "name": "stdout",
     "output_type": "stream",
     "text": [
      "PolicyIteration:\n"
     ]
    },
    {
     "ename": "NameError",
     "evalue": "name 'mdpresultPolicy' is not defined",
     "output_type": "error",
     "traceback": [
      "\u001b[1;31m---------------------------------------------------------------------------\u001b[0m",
      "\u001b[1;31mNameError\u001b[0m                                 Traceback (most recent call last)",
      "\u001b[1;32m<ipython-input-14-67aba2684da2>\u001b[0m in \u001b[0;36m<module>\u001b[1;34m\u001b[0m\n\u001b[0;32m      2\u001b[0m \u001b[1;33m\u001b[0m\u001b[0m\n\u001b[0;32m      3\u001b[0m \u001b[0mprint\u001b[0m\u001b[1;33m(\u001b[0m\u001b[1;34m'PolicyIteration:'\u001b[0m\u001b[1;33m)\u001b[0m\u001b[1;33m\u001b[0m\u001b[1;33m\u001b[0m\u001b[0m\n\u001b[1;32m----> 4\u001b[1;33m \u001b[0mprint\u001b[0m\u001b[1;33m(\u001b[0m\u001b[0mmdpresultPolicy\u001b[0m\u001b[1;33m.\u001b[0m\u001b[0mpolicy\u001b[0m\u001b[1;33m)\u001b[0m\u001b[1;33m\u001b[0m\u001b[1;33m\u001b[0m\u001b[0m\n\u001b[0m\u001b[0;32m      5\u001b[0m \u001b[0mprint\u001b[0m\u001b[1;33m(\u001b[0m\u001b[0mmdpresultPolicy\u001b[0m\u001b[1;33m.\u001b[0m\u001b[0mV\u001b[0m\u001b[1;33m)\u001b[0m\u001b[1;33m\u001b[0m\u001b[1;33m\u001b[0m\u001b[0m\n\u001b[0;32m      6\u001b[0m \u001b[0mprint\u001b[0m\u001b[1;33m(\u001b[0m\u001b[0mmdpresultPolicy\u001b[0m\u001b[1;33m.\u001b[0m\u001b[0miter\u001b[0m\u001b[1;33m)\u001b[0m\u001b[1;33m\u001b[0m\u001b[1;33m\u001b[0m\u001b[0m\n",
      "\u001b[1;31mNameError\u001b[0m: name 'mdpresultPolicy' is not defined"
     ]
    }
   ],
   "source": [
    "'''The Values'''\n",
    "\n",
    "print('PolicyIteration:')\n",
    "print(mdpresultPolicy.policy)\n",
    "print(mdpresultPolicy.V)\n",
    "print(mdpresultPolicy.iter)\n",
    "\n",
    "\n",
    "print('ValueIteration:')\n",
    "print(mdpresultValue.policy)\n",
    "print(mdpresultValue.V)\n",
    "print(mdpresultValue.iter)"
   ]
  },
  {
   "cell_type": "code",
   "execution_count": null,
   "metadata": {},
   "outputs": [],
   "source": [
    "print(\"mdpValue Policy: \",testWarehouse(orderList, mdpresultValue.policy))\n",
    "print(\"mdpPolicy Policy: \",testWarehouse(orderList, mdpresultPolicy.policy))\n",
    "print(\"Greedy Policy: \",testWarehouse(orderList, createGreedyPolicy()))"
   ]
  }
 ],
 "metadata": {
  "kernelspec": {
   "display_name": "Python 3",
   "language": "python",
   "name": "python3"
  },
  "language_info": {
   "codemirror_mode": {
    "name": "ipython",
    "version": 3
   },
   "file_extension": ".py",
   "mimetype": "text/x-python",
   "name": "python",
   "nbconvert_exporter": "python",
   "pygments_lexer": "ipython3",
   "version": "3.8.8"
  }
 },
 "nbformat": 4,
 "nbformat_minor": 4
}
